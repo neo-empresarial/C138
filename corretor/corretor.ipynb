{
 "cells": [
  {
   "cell_type": "code",
   "execution_count": 65,
   "metadata": {},
   "outputs": [
    {
     "name": "stderr",
     "output_type": "stream",
     "text": [
      "[nltk_data] Downloading package punkt to\n",
      "[nltk_data]     C:\\Users\\gutot\\AppData\\Roaming\\nltk_data...\n",
      "[nltk_data]   Package punkt is already up-to-date!\n"
     ]
    },
    {
     "data": {
      "text/plain": [
       "True"
      ]
     },
     "execution_count": 65,
     "metadata": {},
     "output_type": "execute_result"
    }
   ],
   "source": [
    "import nltk\n",
    "nltk.download('punkt')"
   ]
  },
  {
   "cell_type": "code",
   "execution_count": 66,
   "metadata": {},
   "outputs": [
    {
     "data": {
      "text/plain": [
       "'\\n\\n\\nimagem \\n\\nTemos a seguinte classe que representa um usuário no nosso sistema:\\n\\njava\\n\\nPara salvar um novo usuário, várias validações são feitas, como por exemplo: Ver se o nome só contém letras, [**o CPF só números**] e ver se o usuário possui no mínimo 18 anos. Veja o método que faz essa validação:\\n\\njava \\n\\nSuponha agora que eu tenha outra classe, a classe `Produto`, que contém um atributo nome e eu quero fazer a mesma validação que fiz para o nome do usuário: Ver se só contém letras. E aí? Vou'"
      ]
     },
     "execution_count": 66,
     "metadata": {},
     "output_type": "execute_result"
    }
   ],
   "source": [
    "with open('treinamento.txt', 'r', encoding='utf-8') as f:\n",
    "    treinamento = f.read()\n",
    "\n",
    "treinamento[:500]"
   ]
  },
  {
   "cell_type": "code",
   "execution_count": 67,
   "metadata": {},
   "outputs": [],
   "source": [
    "#Retirando caracteres especiais do treinamento\n",
    "def separa_palavras(lista_tokens):\n",
    "    lista_palavras = []\n",
    "    for token in lista_tokens:\n",
    "        if token.isalpha():\n",
    "            lista_palavras.append(token)\n",
    "    return lista_palavras\n"
   ]
  },
  {
   "cell_type": "code",
   "execution_count": 68,
   "metadata": {},
   "outputs": [
    {
     "data": {
      "text/plain": [
       "['imagem', 'Temos', 'a', 'seguinte', 'classe']"
      ]
     },
     "execution_count": 68,
     "metadata": {},
     "output_type": "execute_result"
    }
   ],
   "source": [
    "lista_tokens = nltk.tokenize.word_tokenize(treinamento)\n",
    "lista_palavras = separa_palavras(lista_tokens)\n",
    "lista_palavras[:5]"
   ]
  },
  {
   "cell_type": "code",
   "execution_count": 69,
   "metadata": {},
   "outputs": [
    {
     "data": {
      "text/plain": [
       "['imagem', 'temos', 'a', 'seguinte', 'classe']"
      ]
     },
     "execution_count": 69,
     "metadata": {},
     "output_type": "execute_result"
    }
   ],
   "source": [
    "#Colocando todo o treinamento em letras minúsculas\n",
    "def normalizacao(lista_palavras):\n",
    "    lista_normalizada = []\n",
    "    for palavra in lista_palavras:\n",
    "        lista_normalizada.append(palavra.lower())\n",
    "    return lista_normalizada\n",
    "\n",
    "lista_normalizada = normalizacao(lista_palavras)\n",
    "lista_normalizada[:5]"
   ]
  },
  {
   "cell_type": "code",
   "execution_count": 70,
   "metadata": {},
   "outputs": [
    {
     "data": {
      "text/plain": [
       "18465"
      ]
     },
     "execution_count": 70,
     "metadata": {},
     "output_type": "execute_result"
    }
   ],
   "source": [
    "# Veriicando o número de palavras únicas no treinamento\n",
    "len(set(lista_normalizada))"
   ]
  },
  {
   "cell_type": "code",
   "execution_count": 71,
   "metadata": {},
   "outputs": [
    {
     "data": {
      "text/plain": [
       "('programa', 'ão')"
      ]
     },
     "execution_count": 71,
     "metadata": {},
     "output_type": "execute_result"
    }
   ],
   "source": [
    "palavra_exemplo = 'programaão'\n",
    "\n",
    "(palavra_exemplo[:8], palavra_exemplo[8:])"
   ]
  },
  {
   "cell_type": "code",
   "execution_count": 72,
   "metadata": {},
   "outputs": [
    {
     "data": {
      "text/plain": [
       "['programaaão', 'programabão', 'programacão', 'programadão', 'programaeão']"
      ]
     },
     "execution_count": 72,
     "metadata": {},
     "output_type": "execute_result"
    }
   ],
   "source": [
    "#Função para inserir letras no espaço faltante\n",
    "def insere_letras(fatias):\n",
    "    novas_palavras = []\n",
    "    letras = 'abcdefghijklmnopqrstuvwxyzáâàãéêèẽíîìĩóôõòúûùũç'\n",
    "    for E, D in fatias:\n",
    "        for letra in letras:\n",
    "            novas_palavras.append(E + letra + D)\n",
    "    return novas_palavras\n",
    "\n",
    "insere_letras([('programa', 'ão')])[:5]"
   ]
  },
  {
   "cell_type": "code",
   "execution_count": 73,
   "metadata": {},
   "outputs": [
    {
     "data": {
      "text/plain": [
       "['aprogramaão', 'bprogramaão', 'cprogramaão', 'dprogramaão', 'eprogramaão']"
      ]
     },
     "execution_count": 73,
     "metadata": {},
     "output_type": "execute_result"
    }
   ],
   "source": [
    "#Função para gerar palavras possíveis\n",
    "def gerador_palavras(palavra):\n",
    "    fatias = []\n",
    "    for i in range(len(palavra)+1):\n",
    "        fatias.append((palavra[:i], palavra[i:]))\n",
    "    palavras_geradas = insere_letras(fatias)\n",
    "    return palavras_geradas\n",
    "\n",
    "palavras_geradas = gerador_palavras(palavra_exemplo)\n",
    "\n",
    "palavras_geradas[:5]"
   ]
  },
  {
   "cell_type": "code",
   "execution_count": 74,
   "metadata": {},
   "outputs": [
    {
     "name": "stdout",
     "output_type": "stream",
     "text": [
      "Existe, a palavra correta é \"programação\"\n"
     ]
    }
   ],
   "source": [
    "for palavra in palavras_geradas:\n",
    "  if palavra == 'programação':\n",
    "    print(f'Existe, a palavra correta é \"{palavra}\"')"
   ]
  },
  {
   "cell_type": "code",
   "execution_count": 75,
   "metadata": {},
   "outputs": [
    {
     "data": {
      "text/plain": [
       "517"
      ]
     },
     "execution_count": 75,
     "metadata": {},
     "output_type": "execute_result"
    }
   ],
   "source": [
    "#Foram geradas 517 palavras possíveis para encontrar a palavra \"programação\"\n",
    "len(palavras_geradas)"
   ]
  },
  {
   "cell_type": "code",
   "execution_count": 76,
   "metadata": {},
   "outputs": [
    {
     "data": {
      "text/plain": [
       "[('de', 15502),\n",
       " ('o', 14056),\n",
       " ('que', 12230),\n",
       " ('a', 11099),\n",
       " ('e', 10501),\n",
       " ('para', 7710),\n",
       " ('um', 6368),\n",
       " ('é', 5899),\n",
       " ('uma', 5220),\n",
       " ('do', 5124)]"
      ]
     },
     "execution_count": 76,
     "metadata": {},
     "output_type": "execute_result"
    }
   ],
   "source": [
    "#Para que o nosso corretor saiba qual a palavra correta, precisamos de um dicionário com as palavras e suas frequências\n",
    "frequencia = nltk.FreqDist(lista_normalizada)\n",
    "\n",
    "total_palavras = len(lista_normalizada)\n",
    "\n",
    "frequencia.most_common(10)"
   ]
  },
  {
   "cell_type": "code",
   "execution_count": 77,
   "metadata": {},
   "outputs": [],
   "source": [
    "#Com o dicionário, podemos calcular a probabilidade de uma palavra aparecer no texto\n",
    "def probabilidade(palavra_gerada):\n",
    "    return frequencia[palavra_gerada]/total_palavras\n"
   ]
  },
  {
   "cell_type": "code",
   "execution_count": 78,
   "metadata": {},
   "outputs": [],
   "source": [
    "#Tendo a probabilidade, criamos a nossa função corretor\n",
    "def corretor(palavra_errada):\n",
    "    palavras_geradas = gerador_palavras(palavra_errada)\n",
    "    palavra_correta = max(palavras_geradas, key=probabilidade)\n",
    "    return palavra_correta"
   ]
  },
  {
   "cell_type": "markdown",
   "metadata": {},
   "source": [
    "Testes em palavras que faltam uma letra"
   ]
  },
  {
   "cell_type": "code",
   "execution_count": 79,
   "metadata": {},
   "outputs": [
    {
     "data": {
      "text/plain": [
       "'lógica'"
      ]
     },
     "execution_count": 79,
     "metadata": {},
     "output_type": "execute_result"
    }
   ],
   "source": [
    "palavra_exemplo = 'lgica'\n",
    "corretor(palavra_exemplo)"
   ]
  },
  {
   "cell_type": "code",
   "execution_count": 80,
   "metadata": {},
   "outputs": [
    {
     "data": {
      "text/plain": [
       "'programação'"
      ]
     },
     "execution_count": 80,
     "metadata": {},
     "output_type": "execute_result"
    }
   ],
   "source": [
    "palavra_exemplo = 'programaão'\n",
    "corretor(palavra_exemplo)"
   ]
  },
  {
   "cell_type": "code",
   "execution_count": 81,
   "metadata": {},
   "outputs": [
    {
     "data": {
      "text/plain": [
       "'porta'"
      ]
     },
     "execution_count": 81,
     "metadata": {},
     "output_type": "execute_result"
    }
   ],
   "source": [
    "palavra_exemplo = 'pora'\n",
    "corretor(palavra_exemplo)"
   ]
  },
  {
   "cell_type": "code",
   "execution_count": 82,
   "metadata": {},
   "outputs": [],
   "source": [
    "#Função para criar uma tupla com a palavra correta e a palavra errada\n",
    "def cria_dados_teste(nome_arquivo):\n",
    "    lista_palavras_teste = []\n",
    "    f = open(nome_arquivo, 'r', encoding='utf-8')\n",
    "    for linha in f:\n",
    "        correta, errada = linha.split()\n",
    "        lista_palavras_teste.append((correta, errada))\n",
    "    f.close()\n",
    "    return lista_palavras_teste\n",
    "\n",
    "lista_teste = cria_dados_teste('palavras.txt')"
   ]
  },
  {
   "cell_type": "code",
   "execution_count": 83,
   "metadata": {},
   "outputs": [
    {
     "name": "stdout",
     "output_type": "stream",
     "text": [
      "1.08% de 186 palavras\n"
     ]
    }
   ],
   "source": [
    "def avaliador(testes):\n",
    "    numero_palavras = len(testes)\n",
    "    acertou = 0\n",
    "    for correta, errada in testes:\n",
    "        palavra_corrigida = corretor(errada)\n",
    "        if palavra_corrigida == correta:\n",
    "            acertou += 1\n",
    "    taxa_acerto = round(acertou*100/numero_palavras, 2)\n",
    "    print(f'{taxa_acerto}% de {numero_palavras} palavras')\n",
    "\n",
    "avaliador(lista_teste)"
   ]
  },
  {
   "cell_type": "markdown",
   "metadata": {},
   "source": [
    "Uma letra a mais\n"
   ]
  },
  {
   "cell_type": "code",
   "execution_count": 84,
   "metadata": {},
   "outputs": [
    {
     "data": {
      "text/plain": [
       "['programação']"
      ]
     },
     "execution_count": 84,
     "metadata": {},
     "output_type": "execute_result"
    }
   ],
   "source": [
    "#Função para deletar caracteres a mais de uma palavra\n",
    "def deletando_caracteres(fatias):\n",
    "    novas_palavras = []\n",
    "    for E, D in fatias:\n",
    "        novas_palavras.append(E + D[1:])\n",
    "    return novas_palavras\n",
    "\n",
    "exemplo = [('progr','samação')]\n",
    "\n",
    "deletando_caracteres(exemplo)"
   ]
  },
  {
   "cell_type": "code",
   "execution_count": 85,
   "metadata": {},
   "outputs": [
    {
     "name": "stdout",
     "output_type": "stream",
     "text": [
      "['aprogrsamação', 'bprogrsamação', 'cprogrsamação', 'dprogrsamação', 'eprogrsamação']\n"
     ]
    }
   ],
   "source": [
    "def gerador_palavras(palavra):\n",
    "    fatias = []\n",
    "    for i in range(len(palavra)+1):\n",
    "        fatias.append((palavra[:i], palavra[i:]))\n",
    "    palavras_geradas = insere_letras(fatias)\n",
    "    palavras_geradas += deletando_caracteres(fatias)\n",
    "    return palavras_geradas\n",
    "\n",
    "palavra_exemplo = 'progrsamação'\n",
    "\n",
    "palavras_geradas = gerador_palavras(palavra_exemplo)\n",
    "\n",
    "print(palavras_geradas[:5])"
   ]
  },
  {
   "cell_type": "code",
   "execution_count": 86,
   "metadata": {},
   "outputs": [
    {
     "name": "stdout",
     "output_type": "stream",
     "text": [
      "Existe, a palavra correta é \"programação\"\n"
     ]
    }
   ],
   "source": [
    "for palavra in palavras_geradas:\n",
    "  if palavra == 'programação':\n",
    "    print(f'Existe, a palavra correta é \"{palavra}\"')"
   ]
  },
  {
   "cell_type": "code",
   "execution_count": 87,
   "metadata": {},
   "outputs": [
    {
     "name": "stdout",
     "output_type": "stream",
     "text": [
      "A palavra correta é programação\n",
      "A palavra errada é progrsamação\n",
      "Foram geradas 624 palavras\n"
     ]
    }
   ],
   "source": [
    "print(f'A palavra correta é {corretor(palavra_exemplo)}')\n",
    "print(f'A palavra errada é {palavra_exemplo}')\n",
    "print(f'Foram geradas {len(palavras_geradas)} palavras')"
   ]
  },
  {
   "cell_type": "code",
   "execution_count": 88,
   "metadata": {},
   "outputs": [
    {
     "name": "stdout",
     "output_type": "stream",
     "text": [
      "41.4% de 186 palavras\n"
     ]
    }
   ],
   "source": [
    "avaliador(lista_teste)"
   ]
  },
  {
   "cell_type": "markdown",
   "metadata": {},
   "source": [
    "Trocando letras de lugar"
   ]
  },
  {
   "cell_type": "code",
   "execution_count": 89,
   "metadata": {},
   "outputs": [
    {
     "data": {
      "text/plain": [
       "['progaamação', 'progbamação', 'progcamação', 'progdamação', 'progeamação']"
      ]
     },
     "execution_count": 89,
     "metadata": {},
     "output_type": "execute_result"
    }
   ],
   "source": [
    "#Função trocando caracteres\n",
    "def troca_caracter(fatias):\n",
    "    novas_palavras = []\n",
    "    letras = 'abcdefghijklmnopqrstuvwxyzáâàãéêèẽíîìĩóôõòúûùũç'\n",
    "    for E, D in fatias:\n",
    "        for letra in letras:\n",
    "            novas_palavras.append(E + letra + D[1:])\n",
    "    return novas_palavras\n",
    "\n",
    "troca_caracter([('prog', 'tamação')])[:5]"
   ]
  },
  {
   "cell_type": "code",
   "execution_count": 90,
   "metadata": {},
   "outputs": [
    {
     "name": "stdout",
     "output_type": "stream",
     "text": [
      "['aprogtamação', 'bprogtamação', 'cprogtamação', 'dprogtamação', 'eprogtamação']\n"
     ]
    }
   ],
   "source": [
    "#Refatorando a função gerador de palavras\n",
    "def gerador_palavras(palavra):\n",
    "    fatias = []\n",
    "    for i in range(len(palavra)+1):\n",
    "        fatias.append((palavra[:i], palavra[i:]))\n",
    "    palavras_geradas = insere_letras(fatias)\n",
    "    palavras_geradas += deletando_caracteres(fatias)\n",
    "    palavras_geradas += troca_caracter(fatias)\n",
    "    return palavras_geradas\n",
    "\n",
    "palavra_exemplo = 'progtamação'\n",
    "\n",
    "palavras_geradas = gerador_palavras(palavra_exemplo)\n",
    "\n",
    "print(palavras_geradas[:5])"
   ]
  },
  {
   "cell_type": "code",
   "execution_count": 91,
   "metadata": {},
   "outputs": [
    {
     "name": "stdout",
     "output_type": "stream",
     "text": [
      "Existe, a palavra correta é \"programação\"\n"
     ]
    }
   ],
   "source": [
    "for palavra in palavras_geradas:\n",
    "  if palavra == 'programação':\n",
    "    print(f'Existe, a palavra correta é \"{palavra}\"')"
   ]
  },
  {
   "cell_type": "markdown",
   "metadata": {},
   "source": [
    "Invertendo letras"
   ]
  },
  {
   "cell_type": "code",
   "execution_count": 92,
   "metadata": {},
   "outputs": [],
   "source": [
    "#Vamos juntar todas as nossas funções em uma só\n",
    "\n",
    "######### Função para inserir letras no espaço faltante #########\n",
    "\n",
    "def insere_letras(fatias):\n",
    "    novas_palavras = []\n",
    "    letras = 'abcdefghijklmnopqrstuvwxyzáâàãéêèẽíîìĩóôõòúûùũç'\n",
    "    for E, D in fatias:\n",
    "        for letra in letras:\n",
    "            novas_palavras.append(E + letra + D)\n",
    "    return novas_palavras\n",
    "\n",
    "######### Função para deletar caracteres a mais de uma palavra #########\n",
    "\n",
    "def deletando_caracteres(fatias):\n",
    "    novas_palavras = []\n",
    "    for E, D in fatias:\n",
    "        novas_palavras.append(E + D[1:])\n",
    "    return novas_palavras\n",
    "\n",
    "######### Função trocando caracteres #########\n",
    "\n",
    "def troca_caracter(fatias):\n",
    "    novas_palavras = []\n",
    "    letras = 'abcdefghijklmnopqrstuvwxyzáâàãéêèẽíîìĩóôõòúûùũç'\n",
    "    for E, D in fatias:\n",
    "        for letra in letras:\n",
    "            novas_palavras.append(E + letra + D[1:])\n",
    "    return novas_palavras\n",
    "\n",
    "######### Função para gerar palavras possíveis #########\n",
    "\n",
    "def gerador_palavras(palavra):\n",
    "    fatias = []\n",
    "    for i in range(len(palavra)+1):\n",
    "        fatias.append((palavra[:i], palavra[i:]))\n",
    "    palavras_geradas = insere_letras(fatias)\n",
    "    palavras_geradas += deletando_caracteres(fatias)\n",
    "    palavras_geradas += troca_caracter(fatias)\n",
    "    return palavras_geradas\n"
   ]
  },
  {
   "cell_type": "code",
   "execution_count": 93,
   "metadata": {},
   "outputs": [
    {
     "name": "stdout",
     "output_type": "stream",
     "text": [
      "['aprorgamação', 'bprorgamação', 'cprorgamação', 'dprorgamação', 'eprorgamação']\n"
     ]
    }
   ],
   "source": [
    "############ Avaliação do corretor ############\n",
    "\n",
    "palavra_exemplo = 'prorgamação'\n",
    "\n",
    "palavras_geradas = gerador_palavras(palavra_exemplo)\n",
    "\n",
    "print(palavras_geradas[:5])\n"
   ]
  },
  {
   "cell_type": "code",
   "execution_count": 94,
   "metadata": {},
   "outputs": [],
   "source": [
    "for palavra in palavras_geradas:\n",
    "  if palavra == 'programação':\n",
    "    print(f'Existe, a palavra correta é \"{palavra}\"')\n",
    "\n"
   ]
  },
  {
   "cell_type": "code",
   "execution_count": 95,
   "metadata": {},
   "outputs": [
    {
     "name": "stdout",
     "output_type": "stream",
     "text": [
      "76.34% de 186 palavras\n"
     ]
    }
   ],
   "source": [
    "avaliador(lista_teste)"
   ]
  },
  {
   "cell_type": "code",
   "execution_count": 98,
   "metadata": {},
   "outputs": [
    {
     "name": "stdout",
     "output_type": "stream",
     "text": [
      "76.34% de 186 palavras, desconhecidas é 6.99%\n"
     ]
    }
   ],
   "source": [
    "#Vamos tentar descobrir o que está causando o erro, sendo que pode ser tanto o corretor errando, quanto o fato de uma palavra não constar no arquivo de treinamento\n",
    "\n",
    "def avaliador(testes, vocabulario):\n",
    "    numero_palavras = len(testes)\n",
    "    acertou = 0\n",
    "    desconhecida = 0\n",
    "    for correta, errada in testes:\n",
    "        palavra_corrigida = corretor(errada)\n",
    "        if palavra_corrigida == correta:\n",
    "            acertou += 1\n",
    "        else:\n",
    "            desconhecida += (correta not in vocabulario)\n",
    "    taxa_acerto = round(acertou*100/numero_palavras, 2)\n",
    "    taxa_desconhecida = round(desconhecida*100/numero_palavras, 2)\n",
    "    print(f'{taxa_acerto}% de {numero_palavras} palavras, desconhecidas é {taxa_desconhecida}%')\n",
    "\n",
    "vocabulario = set(lista_normalizada)\n",
    "\n",
    "avaliador(lista_teste, vocabulario)"
   ]
  },
  {
   "cell_type": "markdown",
   "metadata": {},
   "source": [
    "Preparando o corretor final\n"
   ]
  },
  {
   "cell_type": "code",
   "execution_count": 99,
   "metadata": {},
   "outputs": [
    {
     "name": "stdout",
     "output_type": "stream",
     "text": [
      "76.34% de 186 das palavras conhecidas\n",
      "e 6.99% das palavras desconhecidas\n"
     ]
    }
   ],
   "source": [
    "########################### Função insere_letras() ############################\n",
    "\n",
    "# Recebe uma lista de tuplas (esquerdo, direito) que corresponde aos lados \n",
    "    # esquerdo e direito da palavra fatiada em dois\n",
    "def insere_letras(fatias):\n",
    "\n",
    "    # Criando uma lista vazia para armazenar as palavras corrigidas\n",
    "    novas_palavras = []\n",
    "\n",
    "    # Variável que armazena todas as letras do alfabeto e as vogais acentuadas\n",
    "        # É daqui que nosso corretor pegará a letra faltante\n",
    "    letras = 'abcedfghijklmnopqrstuvwxyzáâàãéêèíîìóôòõúûùç'\n",
    "\n",
    "    # Iterando por todas as tuplas da lista recebida\n",
    "    for esquerdo, direito in fatias:\n",
    "\n",
    "        # Iterando por toda letra das variável letras\n",
    "        for letra in letras:\n",
    "\n",
    "            # Acrescentando todas as possibilidades de palavras possíveis\n",
    "            novas_palavras.append(esquerdo + letra + direito)\n",
    "    \n",
    "    # Retornando uma lista de possíveis palavras\n",
    "    return novas_palavras\n",
    "\n",
    "######################## Função deletando_caracter() ##########################\n",
    "\n",
    "# Função deletando_caracter()\n",
    "# Recebe as fatias\n",
    "def deletando_caracter(fatias):\n",
    "\n",
    "    # Criando uma lista vazia para armazenar as palavras corrigidas\n",
    "    novas_palavras = []\n",
    "\n",
    "    # Iterando por todas as tuplas da lista recebida\n",
    "    for esquerdo, direito in fatias:\n",
    "\n",
    "        # Acrescentando todas as possibilidades de palavras possíveis\n",
    "        novas_palavras.append(esquerdo + direito[1:])\n",
    "    \n",
    "    # Retornando uma lista de possíveis palavras\n",
    "    return novas_palavras\n",
    "\n",
    "######################## Função trocando_caracter() ###########################\n",
    "\n",
    "# Função trocando_caracter()\n",
    "# Recebe uma lista de tuplas (esquerdo, direito) que corresponde aos lados \n",
    "    # esquerdo e direito da palavra fatiada em dois\n",
    "def troca_caracter(fatias):\n",
    "\n",
    "    # Criando uma lista vazia para armazenar as palavras corrigidas\n",
    "    novas_palavras = []\n",
    "\n",
    "    # Variável que armazena todas as letras do alfabeto e as vogais acentuadas\n",
    "        # É daqui que nosso corretor pegará a letra faltante\n",
    "    letras = 'abcedfghijklmnopqrstuvwxyzáâàãéêèíîìóôòõúûùç'\n",
    "\n",
    "    # Iterando por todas as tuplas da lista recebida\n",
    "    for esquerdo, direito in fatias:\n",
    "\n",
    "        # Iterando por toda letra das variável letras\n",
    "        for letra in letras:\n",
    "\n",
    "            # Acrescentando todas as possibilidades de palavras possíveis\n",
    "            novas_palavras.append(esquerdo + letra + direito[1:])\n",
    "    \n",
    "    # Retornando uma lista de possíveis palavras\n",
    "    return novas_palavras\n",
    "\n",
    "####################### Função invertendo_caracter() ##########################\n",
    "\n",
    "# Função invertendo_caracter()\n",
    "# Recebe as fatias\n",
    "def invertendo_caracter(fatias):\n",
    "\n",
    "    # Criando uma lista vazia para armazenar as palavras corrigidas\n",
    "    novas_palavras = []\n",
    "\n",
    "    # Iterando por todas as tuplas da lista recebida\n",
    "    for esquerdo, direito in fatias:\n",
    "        \n",
    "        # Selecionando apenas as fatias da direita que têm mais de uma letra, \n",
    "            # pois, se não, não há o que inverter\n",
    "        if len(direito) > 1:\n",
    "            \n",
    "            # Acrescentando todas as possibilidades de palavras possíveis\n",
    "            novas_palavras.append(esquerdo + direito[1] + direito[0] + direito[2:])\n",
    "    \n",
    "    # Retornando uma lista de possíveis palavras\n",
    "    return novas_palavras\n",
    "\n",
    "######################### Função gerador_palavras() ###########################\n",
    "\n",
    "# Refatorando outra vez a função gerador_palavras()\n",
    "def gerador_palavras(palavra):\n",
    "\n",
    "    # Criando uma lista vazia para armazenar as duas fatias de cada palavra\n",
    "    fatias = []\n",
    "\n",
    "    # Iterando por cada letra de cada palavra\n",
    "    for i in range(len(palavra) + 1):\n",
    "\n",
    "        # Armazenando as duas fatias em uma tupla e essa tupla em uma lista\n",
    "        fatias.append((palavra[:i], palavra[i:]))\n",
    "\n",
    "    # Chamando a função insere_letras() com a lista de tuplas das fatias \n",
    "        # recém-criadas e armazenando o retorno dessa função em uma variável\n",
    "    palavras_geradas = insere_letras(fatias)\n",
    "\n",
    "    # Primeira refatoração\n",
    "    palavras_geradas += deletando_caracter(fatias)\n",
    "\n",
    "    # Segunda refatoração de fato ocorre\n",
    "    palavras_geradas += troca_caracter(fatias)\n",
    "\n",
    "    # Acrescentando outra função\n",
    "    # É aqui que a terceira refatoração de fato ocorre\n",
    "    palavras_geradas += invertendo_caracter(fatias)\n",
    "\n",
    "    # Retornando a lista de possíveis palavras. A palavra correta estará aí no meio\n",
    "    return palavras_geradas\n",
    "\n",
    "############################# Função avaliador() ###############################\n",
    "\n",
    "# Função avaliador()\n",
    "# Recebe uma lista com as tuplas de palavras de teste para poder\n",
    "    # avaliar o nosso corretor\n",
    "def avaliador(testes, vocabulario):\n",
    "\n",
    "    # Calculando o número de palavras da lista de teste\n",
    "    numero_palavras = len(testes)\n",
    "\n",
    "    # Setando os contadores\n",
    "    acertou = desconhecidas = 0\n",
    "\n",
    "    # Iterando por cada tupla dentro da lista de teste\n",
    "    for correta, errada in testes:\n",
    "\n",
    "        # Chamando a função corretor() passando cada palavra\n",
    "            # digitada incorretamente\n",
    "        palavra_corrigida = corretor(errada)\n",
    "\n",
    "        # Incrementando o contador das palavras desconhecidas\n",
    "        desconhecidas += (correta not in vocabulario)\n",
    "        \n",
    "        # Conferindo cada palavra para ver se ele conseguiu corrigir\n",
    "        if palavra_corrigida == correta:\n",
    "\n",
    "            # Incrementando o contador das palavras corretas\n",
    "            acertou += 1\n",
    "    \n",
    "    # Calculando a taxa de acerto do nosso corretor\n",
    "    taxa_acerto = round(acertou * 100 / numero_palavras, 2)\n",
    "\n",
    "    # Calculando a taxa de erro referente às palavras desconhecidas\n",
    "    taxa_desconhecidas = round(desconhecidas * 100 / numero_palavras, 2)\n",
    "\n",
    "    # Mostrando a taxa de acerto doe nosso corretor\n",
    "    print(f'{taxa_acerto}% de {numero_palavras} das palavras conhecidas\\n'\n",
    "          f'e {taxa_desconhecidas}% das palavras desconhecidas')\n",
    "\n",
    "# Calculando as palavras conecidas\n",
    "vocabulario = set(lista_normalizada)\n",
    "\n",
    "# Chamando a função avaliador()\n",
    "avaliador(lista_teste, vocabulario)"
   ]
  },
  {
   "cell_type": "code",
   "execution_count": 110,
   "metadata": {},
   "outputs": [
    {
     "data": {
      "text/plain": [
       "'pessoas'"
      ]
     },
     "execution_count": 110,
     "metadata": {},
     "output_type": "execute_result"
    }
   ],
   "source": [
    "teste = 'pessos'\n",
    "\n",
    "corretor(teste)"
   ]
  },
  {
   "cell_type": "code",
   "execution_count": 114,
   "metadata": {},
   "outputs": [
    {
     "data": {
      "text/plain": [
       "['todas', 'a', 'pessoas', 'esse', 'lugar']"
      ]
     },
     "execution_count": 114,
     "metadata": {},
     "output_type": "execute_result"
    }
   ],
   "source": [
    "frase_teste = 'Todas as pessos desse lugar'\n",
    "\n",
    "lista_teste = frase_teste.split()\n",
    "\n",
    "lista_teste\n",
    "\n",
    "lista_teste_corrigida = []\n",
    "\n",
    "for palavra in lista_teste:\n",
    "    lista_teste_corrigida.append(corretor(palavra))\n",
    "\n",
    "lista_teste_corrigida"
   ]
  },
  {
   "cell_type": "code",
   "execution_count": 115,
   "metadata": {},
   "outputs": [
    {
     "ename": "Skipped",
     "evalue": "portuguese_en.doctest imports nltk.examples.pt which doesn't exist!",
     "output_type": "error",
     "traceback": [
      "\u001b[1;31m---------------------------------------------------------------------------\u001b[0m",
      "\u001b[1;31mSkipped\u001b[0m                                   Traceback (most recent call last)",
      "Cell \u001b[1;32mIn[115], line 3\u001b[0m\n\u001b[0;32m      1\u001b[0m \u001b[38;5;28;01mfrom\u001b[39;00m \u001b[38;5;21;01mnltk\u001b[39;00m\u001b[38;5;21;01m.\u001b[39;00m\u001b[38;5;21;01mtest\u001b[39;00m\u001b[38;5;21;01m.\u001b[39;00m\u001b[38;5;21;01mportuguese_en_fixt\u001b[39;00m \u001b[38;5;28;01mimport\u001b[39;00m setup_module\n\u001b[1;32m----> 3\u001b[0m \u001b[43msetup_module\u001b[49m\u001b[43m(\u001b[49m\u001b[43m)\u001b[49m\n",
      "File \u001b[1;32mc:\\NEO\\EF CERTI\\Arquivos VS Code\\venv\\Lib\\site-packages\\nltk\\test\\portuguese_en_fixt.py:4\u001b[0m, in \u001b[0;36msetup_module\u001b[1;34m()\u001b[0m\n\u001b[0;32m      1\u001b[0m \u001b[38;5;28;01mdef\u001b[39;00m \u001b[38;5;21msetup_module\u001b[39m():\n\u001b[0;32m      2\u001b[0m     \u001b[38;5;28;01mimport\u001b[39;00m \u001b[38;5;21;01mpytest\u001b[39;00m\n\u001b[1;32m----> 4\u001b[0m     \u001b[43mpytest\u001b[49m\u001b[38;5;241;43m.\u001b[39;49m\u001b[43mskip\u001b[49m\u001b[43m(\u001b[49m\u001b[38;5;124;43m\"\u001b[39;49m\u001b[38;5;124;43mportuguese_en.doctest imports nltk.examples.pt which doesn\u001b[39;49m\u001b[38;5;124;43m'\u001b[39;49m\u001b[38;5;124;43mt exist!\u001b[39;49m\u001b[38;5;124;43m\"\u001b[39;49m\u001b[43m)\u001b[49m\n",
      "File \u001b[1;32mc:\\NEO\\EF CERTI\\Arquivos VS Code\\venv\\Lib\\site-packages\\_pytest\\outcomes.py:179\u001b[0m, in \u001b[0;36mskip\u001b[1;34m(reason, allow_module_level, msg)\u001b[0m\n\u001b[0;32m    177\u001b[0m __tracebackhide__ \u001b[38;5;241m=\u001b[39m \u001b[38;5;28;01mTrue\u001b[39;00m\n\u001b[0;32m    178\u001b[0m reason \u001b[38;5;241m=\u001b[39m _resolve_msg_to_reason(\u001b[38;5;124m\"\u001b[39m\u001b[38;5;124mskip\u001b[39m\u001b[38;5;124m\"\u001b[39m, reason, msg)\n\u001b[1;32m--> 179\u001b[0m \u001b[38;5;28;01mraise\u001b[39;00m Skipped(msg\u001b[38;5;241m=\u001b[39mreason, allow_module_level\u001b[38;5;241m=\u001b[39mallow_module_level)\n",
      "\u001b[1;31mSkipped\u001b[0m: portuguese_en.doctest imports nltk.examples.pt which doesn't exist!"
     ]
    }
   ],
   "source": [
    "from nltk.test.portuguese_en_fixt import setup_module\n",
    "\n",
    "setup_module()"
   ]
  },
  {
   "cell_type": "code",
   "execution_count": null,
   "metadata": {},
   "outputs": [],
   "source": []
  }
 ],
 "metadata": {
  "kernelspec": {
   "display_name": "venv",
   "language": "python",
   "name": "python3"
  },
  "language_info": {
   "codemirror_mode": {
    "name": "ipython",
    "version": 3
   },
   "file_extension": ".py",
   "mimetype": "text/x-python",
   "name": "python",
   "nbconvert_exporter": "python",
   "pygments_lexer": "ipython3",
   "version": "3.11.6"
  }
 },
 "nbformat": 4,
 "nbformat_minor": 2
}
